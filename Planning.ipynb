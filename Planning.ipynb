{
 "cells": [
  {
   "cell_type": "raw",
   "metadata": {},
   "source": [
    "<script>\n",
    "  function code_toggle() {\n",
    "    if (code_shown){\n",
    "      $('div.input').hide('500');\n",
    "      $('#toggleButton').val('Show Code')\n",
    "    } else {\n",
    "      $('div.input').show('500');\n",
    "      $('#toggleButton').val('Hide Code')\n",
    "    }\n",
    "    code_shown = !code_shown\n",
    "  }\n",
    "\n",
    "  $( document ).ready(function(){\n",
    "    code_shown=false;\n",
    "    $('div.input').hide()\n",
    "  });\n",
    "</script>\n",
    "<form action=\"javascript:code_toggle()\"><input type=\"submit\" id=\"toggleButton\" value=\"Show Code\"></form>"
   ]
  },
  {
   "cell_type": "markdown",
   "metadata": {},
   "source": [
    "##### AIND 2018 Term 1  Carl Wennstam\n",
    "\n",
    "\n",
    "# Planning Project Report\n",
    "\n",
    "\n",
    "\n",
    "\n",
    "\n",
    "\n",
    "\n",
    "\n",
    "\n",
    "\n",
    "## Summary\n"
   ]
  },
  {
   "cell_type": "code",
   "execution_count": 1,
   "metadata": {},
   "outputs": [
    {
     "data": {
      "text/plain": [
       "<module 'utils' from 'c:\\\\Users\\\\Administrator\\\\Documents\\\\GitHub\\\\AIND-Planning\\\\utils.py'>"
      ]
     },
     "execution_count": 1,
     "metadata": {},
     "output_type": "execute_result"
    }
   ],
   "source": [
    "import pandas as pd\n",
    "pd.options.display.float_format = '{:0.1f}'.format\n",
    "\n",
    "import utils\n",
    "from importlib import reload\n",
    "reload(utils)"
   ]
  },
  {
   "cell_type": "markdown",
   "metadata": {},
   "source": [
    "## Problem 1\n",
    "\n",
    "### Summary\n",
    "\n",
    "The graph for **Problem 1** has a total off 12 initial fluent states, for a state space of $2^{12} = 4,096$\n",
    "Below is the initial state and it's immediate children."
   ]
  },
  {
   "cell_type": "markdown",
   "metadata": {},
   "source": [
    "![title](p1/images/p1_tree.png)"
   ]
  },
  {
   "cell_type": "markdown",
   "metadata": {},
   "source": [
    "![title](p1/images/p1.svg)"
   ]
  },
  {
   "cell_type": "markdown",
   "metadata": {},
   "source": [
    "### Definitions"
   ]
  },
  {
   "cell_type": "markdown",
   "metadata": {},
   "source": [
    "\n",
    "A **solution** to a **planning problem** is a sequence of actions that leads from the initial state to the goal state.\n",
    "\n",
    "An **optimal** solution is the solution with the **lowest path cost**, or\n",
    "\n",
    "$$ S_{optimal} \\equiv \\arg \\min_{S} \\left( pathcost(S) \\right) = \\arg \\min_{S} \\left( length(S) \\right) $$ \n",
    "\n",
    "Solutions that are not optimal are sometimes referred to as **satisficing.**\n",
    "\n",
    "### Uninformed search algorithms\n",
    "\n",
    "##### Solution quality\n",
    "Below are the solutions to Problem 1 found with **uninformed** search algorithms."
   ]
  },
  {
   "cell_type": "code",
   "execution_count": 13,
   "metadata": {},
   "outputs": [
    {
     "name": "stdout",
     "output_type": "stream",
     "text": [
      "reports/p1/reports/informed/informed_1_2.txt\n"
     ]
    }
   ],
   "source": [
    "print('reports/p{}/{}/{}/{}_{}_{}.txt'.format(1,'reports','informed','informed',1,2))"
   ]
  },
  {
   "cell_type": "code",
   "execution_count": 98,
   "metadata": {
    "scrolled": true
   },
   "outputs": [
    {
     "data": {
      "text/html": [
       "<div>\n",
       "<style scoped>\n",
       "    .dataframe tbody tr th:only-of-type {\n",
       "        vertical-align: middle;\n",
       "    }\n",
       "\n",
       "    .dataframe tbody tr th {\n",
       "        vertical-align: top;\n",
       "    }\n",
       "\n",
       "    .dataframe thead th {\n",
       "        text-align: right;\n",
       "    }\n",
       "</style>\n",
       "<table border=\"1\" class=\"dataframe\">\n",
       "  <thead>\n",
       "    <tr style=\"text-align: right;\">\n",
       "      <th></th>\n",
       "      <th></th>\n",
       "      <th>length</th>\n",
       "      <th>optimal</th>\n",
       "    </tr>\n",
       "    <tr>\n",
       "      <th>algorithm</th>\n",
       "      <th>algo</th>\n",
       "      <th></th>\n",
       "      <th></th>\n",
       "    </tr>\n",
       "  </thead>\n",
       "  <tbody>\n",
       "    <tr>\n",
       "      <th>Breadth First Search</th>\n",
       "      <th>BFS</th>\n",
       "      <td>6</td>\n",
       "      <td>True</td>\n",
       "    </tr>\n",
       "    <tr>\n",
       "      <th>Uniform Cost Search</th>\n",
       "      <th>UCS</th>\n",
       "      <td>6</td>\n",
       "      <td>True</td>\n",
       "    </tr>\n",
       "    <tr>\n",
       "      <th>Breadth First Tree Search</th>\n",
       "      <th>BFTS</th>\n",
       "      <td>6</td>\n",
       "      <td>True</td>\n",
       "    </tr>\n",
       "    <tr>\n",
       "      <th>Depth First Graph Search</th>\n",
       "      <th>DFGS</th>\n",
       "      <td>20</td>\n",
       "      <td>False</td>\n",
       "    </tr>\n",
       "    <tr>\n",
       "      <th>Depth Limited Search</th>\n",
       "      <th>DLS</th>\n",
       "      <td>50</td>\n",
       "      <td>False</td>\n",
       "    </tr>\n",
       "  </tbody>\n",
       "</table>\n",
       "</div>"
      ],
      "text/plain": [
       "                                length  optimal\n",
       "algorithm                 algo                 \n",
       "Breadth First Search      BFS        6     True\n",
       "Uniform Cost Search       UCS        6     True\n",
       "Breadth First Tree Search BFTS       6     True\n",
       "Depth First Graph Search  DFGS      20    False\n",
       "Depth Limited Search      DLS       50    False"
      ]
     },
     "execution_count": 98,
     "metadata": {},
     "output_type": "execute_result"
    }
   ],
   "source": [
    "reload(utils)\n",
    "uninformed=dict()\n",
    "uninformed['performance'],uninformed['solution']=utils.load_results('uninformed',1)\n",
    "df=uninformed['performance'].sort_values(by=['length','expansions'])\n",
    "df.set_index(['algorithm','algo'])[['length','optimal']]"
   ]
  },
  {
   "cell_type": "markdown",
   "metadata": {},
   "source": [
    "\n",
    "**Breadth First Search (BFS)** found a solution of path cost = 6, which is an optimal solution. (We know this since we know that **BFS** *always* yields an optimal solution.) \n",
    "\n",
    "Apart from **BFS**, we also found optimal solutions with **Uniform Cost Search (UCS)** and **Breadth First Tree Search (BFTS)**, whereas **Depth First Graph Search (DFGS)** and **Depth Limited Search (DFS)** returned suboptimal solutions (having path cost > 6). \n",
    "\n",
    "Below are the action sequences of the optimal solutions. "
   ]
  },
  {
   "cell_type": "code",
   "execution_count": 348,
   "metadata": {},
   "outputs": [
    {
     "data": {
      "text/html": [
       "<div>\n",
       "<style scoped>\n",
       "    .dataframe tbody tr th:only-of-type {\n",
       "        vertical-align: middle;\n",
       "    }\n",
       "\n",
       "    .dataframe tbody tr th {\n",
       "        vertical-align: top;\n",
       "    }\n",
       "\n",
       "    .dataframe thead th {\n",
       "        text-align: right;\n",
       "    }\n",
       "</style>\n",
       "<table border=\"1\" class=\"dataframe\">\n",
       "  <thead>\n",
       "    <tr style=\"text-align: right;\">\n",
       "      <th></th>\n",
       "      <th>BFS</th>\n",
       "      <th>BFTS</th>\n",
       "      <th>UCS</th>\n",
       "    </tr>\n",
       "  </thead>\n",
       "  <tbody>\n",
       "    <tr>\n",
       "      <th>0</th>\n",
       "      <td>Load(C1, P1, SFO)</td>\n",
       "      <td>Load(C1, P1, SFO)</td>\n",
       "      <td>Load(C1, P1, SFO)</td>\n",
       "    </tr>\n",
       "    <tr>\n",
       "      <th>1</th>\n",
       "      <td>Load(C2, P2, JFK)</td>\n",
       "      <td>Load(C2, P2, JFK)</td>\n",
       "      <td>Load(C2, P2, JFK)</td>\n",
       "    </tr>\n",
       "    <tr>\n",
       "      <th>2</th>\n",
       "      <td>Fly(P2, JFK, SFO)</td>\n",
       "      <td>Fly(P2, JFK, SFO)</td>\n",
       "      <td>Fly(P1, SFO, JFK)</td>\n",
       "    </tr>\n",
       "    <tr>\n",
       "      <th>3</th>\n",
       "      <td>Unload(C2, P2, SFO)</td>\n",
       "      <td>Unload(C2, P2, SFO)</td>\n",
       "      <td>Fly(P2, JFK, SFO)</td>\n",
       "    </tr>\n",
       "    <tr>\n",
       "      <th>4</th>\n",
       "      <td>Fly(P1, SFO, JFK)</td>\n",
       "      <td>Fly(P1, SFO, JFK)</td>\n",
       "      <td>Unload(C1, P1, JFK)</td>\n",
       "    </tr>\n",
       "    <tr>\n",
       "      <th>5</th>\n",
       "      <td>Unload(C1, P1, JFK)</td>\n",
       "      <td>Unload(C1, P1, JFK)</td>\n",
       "      <td>Unload(C2, P2, SFO)</td>\n",
       "    </tr>\n",
       "  </tbody>\n",
       "</table>\n",
       "</div>"
      ],
      "text/plain": [
       "                   BFS                 BFTS                  UCS\n",
       "0    Load(C1, P1, SFO)    Load(C1, P1, SFO)    Load(C1, P1, SFO)\n",
       "1    Load(C2, P2, JFK)    Load(C2, P2, JFK)    Load(C2, P2, JFK)\n",
       "2    Fly(P2, JFK, SFO)    Fly(P2, JFK, SFO)    Fly(P1, SFO, JFK)\n",
       "3  Unload(C2, P2, SFO)  Unload(C2, P2, SFO)    Fly(P2, JFK, SFO)\n",
       "4    Fly(P1, SFO, JFK)    Fly(P1, SFO, JFK)  Unload(C1, P1, JFK)\n",
       "5  Unload(C1, P1, JFK)  Unload(C1, P1, JFK)  Unload(C2, P2, SFO)"
      ]
     },
     "execution_count": 348,
     "metadata": {},
     "output_type": "execute_result"
    }
   ],
   "source": [
    "df=uninformed['solution']\n",
    "optimal=dict()\n",
    "for i,v in df[df.optimal].iterrows():\n",
    "    optimal[v.algo]=v.solution\n",
    "pd.DataFrame.from_dict(optimal).head(6)"
   ]
  },
  {
   "cell_type": "markdown",
   "metadata": {},
   "source": [
    "The **BFS** solution is depicted graphically below, implemented in dot language.  \n",
    "\n",
    "*Load(P,C,A)* actions are shown as clockwise loop on A ending in a filled diamond.\n",
    "\n",
    "*Unload(P,C,A)* actions are shown as counter-clockwise loop on A ending in an unfilled diamond."
   ]
  },
  {
   "cell_type": "markdown",
   "metadata": {},
   "source": [
    "![title](p1/images/breadth_first.svg)"
   ]
  },
  {
   "cell_type": "markdown",
   "metadata": {},
   "source": [
    "We will compare this to the next best suboptimal solution found with **DFGS**."
   ]
  },
  {
   "cell_type": "markdown",
   "metadata": {},
   "source": [
    "![title](p1/images/depth_first_graph_search.svg)"
   ]
  },
  {
   "cell_type": "markdown",
   "metadata": {},
   "source": [
    "##### Search algorithm performance"
   ]
  },
  {
   "cell_type": "code",
   "execution_count": 354,
   "metadata": {},
   "outputs": [],
   "source": [
    "df=uninformed['performance'].sort_values(by=['length','expansions']).drop(['heuristic','problem'],axis=1)\n",
    "df=df.set_index('algorithm')\n",
    "df.assign(b = lambda x: x.created**(1/x.length))"
   ]
  },
  {
   "cell_type": "code",
   "execution_count": 275,
   "metadata": {},
   "outputs": [
    {
     "data": {
      "text/html": [
       "<div>\n",
       "<style scoped>\n",
       "    .dataframe tbody tr th:only-of-type {\n",
       "        vertical-align: middle;\n",
       "    }\n",
       "\n",
       "    .dataframe tbody tr th {\n",
       "        vertical-align: top;\n",
       "    }\n",
       "\n",
       "    .dataframe thead th {\n",
       "        text-align: right;\n",
       "    }\n",
       "</style>\n",
       "<table border=\"1\" class=\"dataframe\">\n",
       "  <thead>\n",
       "    <tr style=\"text-align: right;\">\n",
       "      <th></th>\n",
       "      <th>created</th>\n",
       "      <th>expansions</th>\n",
       "      <th>length</th>\n",
       "      <th>tests</th>\n",
       "      <th>time[s]</th>\n",
       "      <th>optimal</th>\n",
       "      <th>b</th>\n",
       "    </tr>\n",
       "    <tr>\n",
       "      <th>algorithm</th>\n",
       "      <th></th>\n",
       "      <th></th>\n",
       "      <th></th>\n",
       "      <th></th>\n",
       "      <th></th>\n",
       "      <th></th>\n",
       "      <th></th>\n",
       "    </tr>\n",
       "  </thead>\n",
       "  <tbody>\n",
       "    <tr>\n",
       "      <th>breadth_first_search</th>\n",
       "      <td>180</td>\n",
       "      <td>43</td>\n",
       "      <td>6</td>\n",
       "      <td>56</td>\n",
       "      <td>0.7</td>\n",
       "      <td>True</td>\n",
       "      <td>2.4</td>\n",
       "    </tr>\n",
       "    <tr>\n",
       "      <th>uniform_cost_search</th>\n",
       "      <td>224</td>\n",
       "      <td>55</td>\n",
       "      <td>6</td>\n",
       "      <td>57</td>\n",
       "      <td>0.9</td>\n",
       "      <td>True</td>\n",
       "      <td>2.5</td>\n",
       "    </tr>\n",
       "    <tr>\n",
       "      <th>breadth_first_tree_search</th>\n",
       "      <td>5960</td>\n",
       "      <td>1458</td>\n",
       "      <td>6</td>\n",
       "      <td>1459</td>\n",
       "      <td>23.9</td>\n",
       "      <td>True</td>\n",
       "      <td>4.3</td>\n",
       "    </tr>\n",
       "    <tr>\n",
       "      <th>depth_first_graph_search</th>\n",
       "      <td>84</td>\n",
       "      <td>21</td>\n",
       "      <td>20</td>\n",
       "      <td>22</td>\n",
       "      <td>0.3</td>\n",
       "      <td>False</td>\n",
       "      <td>1.2</td>\n",
       "    </tr>\n",
       "    <tr>\n",
       "      <th>depth_limited_search</th>\n",
       "      <td>414</td>\n",
       "      <td>101</td>\n",
       "      <td>50</td>\n",
       "      <td>271</td>\n",
       "      <td>2.2</td>\n",
       "      <td>False</td>\n",
       "      <td>1.1</td>\n",
       "    </tr>\n",
       "  </tbody>\n",
       "</table>\n",
       "</div>"
      ],
      "text/plain": [
       "                           created  expansions  length  tests  time[s]  \\\n",
       "algorithm                                                                \n",
       "breadth_first_search           180          43       6     56      0.7   \n",
       "uniform_cost_search            224          55       6     57      0.9   \n",
       "breadth_first_tree_search     5960        1458       6   1459     23.9   \n",
       "depth_first_graph_search        84          21      20     22      0.3   \n",
       "depth_limited_search           414         101      50    271      2.2   \n",
       "\n",
       "                           optimal   b  \n",
       "algorithm                               \n",
       "breadth_first_search          True 2.4  \n",
       "uniform_cost_search           True 2.5  \n",
       "breadth_first_tree_search     True 4.3  \n",
       "depth_first_graph_search     False 1.2  \n",
       "depth_limited_search         False 1.1  "
      ]
     },
     "execution_count": 275,
     "metadata": {},
     "output_type": "execute_result"
    }
   ],
   "source": [
    "df"
   ]
  },
  {
   "cell_type": "markdown",
   "metadata": {},
   "source": [
    "##### Time complexity\n",
    "\n",
    "While the data shows a strong linear relationship between the two (regression plot below) I will measure time complexity by the number of **expansions** rather than **execution time**, which may be affected by other factors. "
   ]
  },
  {
   "cell_type": "code",
   "execution_count": 276,
   "metadata": {},
   "outputs": [
    {
     "data": {
      "image/png": "[encoded data removed]",
      "text/plain": [
       "<matplotlib.figure.Figure at 0x2c3be0385c0>"
      ]
     },
     "metadata": {},
     "output_type": "display_data"
    }
   ],
   "source": [
    "import matplotlib as plt\n",
    "#df.plot.scatter('expansions','time[s]')\n",
    "fig=sns.regplot(x=\"expansions\", y=\"time[s]\", data=df.drop('breadth_first_tree_search'))"
   ]
  },
  {
   "cell_type": "code",
   "execution_count": 357,
   "metadata": {},
   "outputs": [
    {
     "data": {
      "image/png": "[encoded data removed]",
      "text/plain": [
       "<matplotlib.figure.Figure at 0x2c3be9ddbe0>"
      ]
     },
     "metadata": {},
     "output_type": "display_data"
    }
   ],
   "source": [
    "utils.barh(\"expansions\",\"algorithm\", df)"
   ]
  },
  {
   "cell_type": "markdown",
   "metadata": {},
   "source": [
    "##### Space complexity\n",
    "\n",
    "Here we will consider the number of nodes created and the effective branching factor."
   ]
  },
  {
   "cell_type": "code",
   "execution_count": 358,
   "metadata": {},
   "outputs": [
    {
     "data": {
      "image/png": "[encoded data removed]",
      "text/plain": [
       "<matplotlib.figure.Figure at 0x2c3be80cba8>"
      ]
     },
     "metadata": {},
     "output_type": "display_data"
    }
   ],
   "source": [
    "utils.barh(\"created\",\"algorithm\", df)"
   ]
  },
  {
   "cell_type": "code",
   "execution_count": 359,
   "metadata": {},
   "outputs": [
    {
     "data": {
      "image/png": "[encoded data removed]",
      "text/plain": [
       "<matplotlib.figure.Figure at 0x2c3be9daa20>"
      ]
     },
     "metadata": {},
     "output_type": "display_data"
    }
   ],
   "source": [
    "utils.barh(\"b\",\"algorithm\", df)"
   ]
  },
  {
   "cell_type": "code",
   "execution_count": 362,
   "metadata": {},
   "outputs": [
    {
     "data": {
      "image/png": "[encoded data removed]",
      "text/plain": [
       "<matplotlib.figure.Figure at 0x2c3be8caa58>"
      ]
     },
     "metadata": {},
     "output_type": "display_data"
    }
   ],
   "source": [
    "fig=sns.lmplot(x=\"expansions\", y=\"b\", data=df.reset_index(),fit_reg=False,hue='algo')"
   ]
  },
  {
   "cell_type": "markdown",
   "metadata": {},
   "source": [
    "### Informed search algorithms\n",
    "\n",
    "Next we have the *informed* search algorithms."
   ]
  },
  {
   "cell_type": "code",
   "execution_count": 89,
   "metadata": {},
   "outputs": [
    {
     "data": {
      "text/html": [
       "<div>\n",
       "<style scoped>\n",
       "    .dataframe tbody tr th:only-of-type {\n",
       "        vertical-align: middle;\n",
       "    }\n",
       "\n",
       "    .dataframe tbody tr th {\n",
       "        vertical-align: top;\n",
       "    }\n",
       "\n",
       "    .dataframe thead th {\n",
       "        text-align: right;\n",
       "    }\n",
       "</style>\n",
       "<table border=\"1\" class=\"dataframe\">\n",
       "  <thead>\n",
       "    <tr style=\"text-align: right;\">\n",
       "      <th></th>\n",
       "      <th></th>\n",
       "      <th></th>\n",
       "      <th>length</th>\n",
       "      <th>optimal</th>\n",
       "    </tr>\n",
       "    <tr>\n",
       "      <th>algorithm</th>\n",
       "      <th>algo</th>\n",
       "      <th>heuristic</th>\n",
       "      <th></th>\n",
       "      <th></th>\n",
       "    </tr>\n",
       "  </thead>\n",
       "  <tbody>\n",
       "    <tr>\n",
       "      <th>Greedy Best First Graph Se</th>\n",
       "      <th>GBFGS</th>\n",
       "      <th>H1</th>\n",
       "      <td>6</td>\n",
       "      <td>True</td>\n",
       "    </tr>\n",
       "    <tr>\n",
       "      <th rowspan=\"3\" valign=\"top\">Astar Se</th>\n",
       "      <th rowspan=\"3\" valign=\"top\">AS</th>\n",
       "      <th>HPL</th>\n",
       "      <td>6</td>\n",
       "      <td>True</td>\n",
       "    </tr>\n",
       "    <tr>\n",
       "      <th>HIP</th>\n",
       "      <td>6</td>\n",
       "      <td>True</td>\n",
       "    </tr>\n",
       "    <tr>\n",
       "      <th>H1</th>\n",
       "      <td>6</td>\n",
       "      <td>True</td>\n",
       "    </tr>\n",
       "    <tr>\n",
       "      <th>Recursive Best First Se</th>\n",
       "      <th>RBFS</th>\n",
       "      <th>H1</th>\n",
       "      <td>6</td>\n",
       "      <td>True</td>\n",
       "    </tr>\n",
       "  </tbody>\n",
       "</table>\n",
       "</div>"
      ],
      "text/plain": [
       "                                            length  optimal\n",
       "algorithm                  algo  heuristic                 \n",
       "Greedy Best First Graph Se GBFGS H1              6     True\n",
       "Astar Se                   AS    HPL             6     True\n",
       "                                 HIP             6     True\n",
       "                                 H1              6     True\n",
       "Recursive Best First Se    RBFS  H1              6     True"
      ]
     },
     "execution_count": 89,
     "metadata": {},
     "output_type": "execute_result"
    }
   ],
   "source": [
    "reload(utils)\n",
    "informed=dict()\n",
    "informed['performance'],informed['solution']=utils.load_results('informed',1)\n",
    "df=informed['performance'].sort_values(by=['length','expansions'])\n",
    "df.set_index(['algorithm','algo','heuristic'])[['length','optimal']]"
   ]
  },
  {
   "cell_type": "code",
   "execution_count": 90,
   "metadata": {},
   "outputs": [
    {
     "data": {
      "text/html": [
       "<div>\n",
       "<style scoped>\n",
       "    .dataframe tbody tr th:only-of-type {\n",
       "        vertical-align: middle;\n",
       "    }\n",
       "\n",
       "    .dataframe tbody tr th {\n",
       "        vertical-align: top;\n",
       "    }\n",
       "\n",
       "    .dataframe thead th {\n",
       "        text-align: right;\n",
       "    }\n",
       "</style>\n",
       "<table border=\"1\" class=\"dataframe\">\n",
       "  <thead>\n",
       "    <tr style=\"text-align: right;\">\n",
       "      <th></th>\n",
       "      <th></th>\n",
       "      <th></th>\n",
       "      <th>length</th>\n",
       "      <th>optimal</th>\n",
       "    </tr>\n",
       "    <tr>\n",
       "      <th>algorithm</th>\n",
       "      <th>algo</th>\n",
       "      <th>heuristic</th>\n",
       "      <th></th>\n",
       "      <th></th>\n",
       "    </tr>\n",
       "  </thead>\n",
       "  <tbody>\n",
       "    <tr>\n",
       "      <th rowspan=\"3\" valign=\"top\">Astar Se</th>\n",
       "      <th rowspan=\"3\" valign=\"top\">AS</th>\n",
       "      <th>HPL</th>\n",
       "      <td>9</td>\n",
       "      <td>True</td>\n",
       "    </tr>\n",
       "    <tr>\n",
       "      <th>HIP</th>\n",
       "      <td>9</td>\n",
       "      <td>True</td>\n",
       "    </tr>\n",
       "    <tr>\n",
       "      <th>H1</th>\n",
       "      <td>9</td>\n",
       "      <td>True</td>\n",
       "    </tr>\n",
       "    <tr>\n",
       "      <th>Greedy Best First Graph Se</th>\n",
       "      <th>GBFGS</th>\n",
       "      <th>H1</th>\n",
       "      <td>17</td>\n",
       "      <td>False</td>\n",
       "    </tr>\n",
       "  </tbody>\n",
       "</table>\n",
       "</div>"
      ],
      "text/plain": [
       "                                            length  optimal\n",
       "algorithm                  algo  heuristic                 \n",
       "Astar Se                   AS    HPL             9     True\n",
       "                                 HIP             9     True\n",
       "                                 H1              9     True\n",
       "Greedy Best First Graph Se GBFGS H1             17    False"
      ]
     },
     "execution_count": 90,
     "metadata": {},
     "output_type": "execute_result"
    }
   ],
   "source": [
    "informed=dict()\n",
    "informed['performance'],informed['solution']=utils.load_results('informed',2)\n",
    "df=informed['performance'].sort_values(by=['length','expansions']).drop_duplicates()\n",
    "df.set_index(['algorithm','algo','heuristic'])[['length','optimal']]"
   ]
  },
  {
   "cell_type": "code",
   "execution_count": 91,
   "metadata": {},
   "outputs": [
    {
     "data": {
      "text/html": [
       "<div>\n",
       "<style scoped>\n",
       "    .dataframe tbody tr th:only-of-type {\n",
       "        vertical-align: middle;\n",
       "    }\n",
       "\n",
       "    .dataframe tbody tr th {\n",
       "        vertical-align: top;\n",
       "    }\n",
       "\n",
       "    .dataframe thead th {\n",
       "        text-align: right;\n",
       "    }\n",
       "</style>\n",
       "<table border=\"1\" class=\"dataframe\">\n",
       "  <thead>\n",
       "    <tr style=\"text-align: right;\">\n",
       "      <th></th>\n",
       "      <th></th>\n",
       "      <th>created</th>\n",
       "      <th>expansions</th>\n",
       "      <th>length</th>\n",
       "      <th>tests</th>\n",
       "      <th>time[s]</th>\n",
       "      <th>optimal</th>\n",
       "      <th>b</th>\n",
       "    </tr>\n",
       "    <tr>\n",
       "      <th>algo</th>\n",
       "      <th>heuristic</th>\n",
       "      <th></th>\n",
       "      <th></th>\n",
       "      <th></th>\n",
       "      <th></th>\n",
       "      <th></th>\n",
       "      <th></th>\n",
       "      <th></th>\n",
       "    </tr>\n",
       "  </thead>\n",
       "  <tbody>\n",
       "    <tr>\n",
       "      <th rowspan=\"3\" valign=\"top\">AS</th>\n",
       "      <th>HPL</th>\n",
       "      <td>841</td>\n",
       "      <td>86</td>\n",
       "      <td>9</td>\n",
       "      <td>88</td>\n",
       "      <td>86.1</td>\n",
       "      <td>True</td>\n",
       "      <td>2.1</td>\n",
       "    </tr>\n",
       "    <tr>\n",
       "      <th>HIP</th>\n",
       "      <td>13303</td>\n",
       "      <td>1450</td>\n",
       "      <td>9</td>\n",
       "      <td>1452</td>\n",
       "      <td>9.8</td>\n",
       "      <td>True</td>\n",
       "      <td>2.9</td>\n",
       "    </tr>\n",
       "    <tr>\n",
       "      <th>H1</th>\n",
       "      <td>44030</td>\n",
       "      <td>4852</td>\n",
       "      <td>9</td>\n",
       "      <td>4854</td>\n",
       "      <td>29.5</td>\n",
       "      <td>True</td>\n",
       "      <td>3.3</td>\n",
       "    </tr>\n",
       "    <tr>\n",
       "      <th>GBFGS</th>\n",
       "      <th>H1</th>\n",
       "      <td>8910</td>\n",
       "      <td>990</td>\n",
       "      <td>17</td>\n",
       "      <td>992</td>\n",
       "      <td>6.0</td>\n",
       "      <td>False</td>\n",
       "      <td>1.7</td>\n",
       "    </tr>\n",
       "  </tbody>\n",
       "</table>\n",
       "</div>"
      ],
      "text/plain": [
       "                 created  expansions  length  tests  time[s]  optimal   b\n",
       "algo  heuristic                                                          \n",
       "AS    HPL            841          86       9     88     86.1     True 2.1\n",
       "      HIP          13303        1450       9   1452      9.8     True 2.9\n",
       "      H1           44030        4852       9   4854     29.5     True 3.3\n",
       "GBFGS H1            8910         990      17    992      6.0    False 1.7"
      ]
     },
     "execution_count": 91,
     "metadata": {},
     "output_type": "execute_result"
    }
   ],
   "source": [
    "df=informed['performance'].sort_values(by=['length','expansions']).drop(['problem'],axis=1).drop_duplicates()\n",
    "df=df.assign(b = lambda x: x.created**(1/x.length))\n",
    "df.set_index(['algo','heuristic']).drop('algorithm',axis=1)"
   ]
  },
  {
   "cell_type": "code",
   "execution_count": 92,
   "metadata": {},
   "outputs": [
    {
     "data": {
      "text/html": [
       "<div>\n",
       "<style scoped>\n",
       "    .dataframe tbody tr th:only-of-type {\n",
       "        vertical-align: middle;\n",
       "    }\n",
       "\n",
       "    .dataframe tbody tr th {\n",
       "        vertical-align: top;\n",
       "    }\n",
       "\n",
       "    .dataframe thead th {\n",
       "        text-align: right;\n",
       "    }\n",
       "</style>\n",
       "<table border=\"1\" class=\"dataframe\">\n",
       "  <thead>\n",
       "    <tr style=\"text-align: right;\">\n",
       "      <th></th>\n",
       "      <th></th>\n",
       "      <th></th>\n",
       "      <th>length</th>\n",
       "      <th>optimal</th>\n",
       "    </tr>\n",
       "    <tr>\n",
       "      <th>algorithm</th>\n",
       "      <th>algo</th>\n",
       "      <th>heuristic</th>\n",
       "      <th></th>\n",
       "      <th></th>\n",
       "    </tr>\n",
       "  </thead>\n",
       "  <tbody>\n",
       "    <tr>\n",
       "      <th rowspan=\"2\" valign=\"top\">Astar Se</th>\n",
       "      <th rowspan=\"2\" valign=\"top\">AS</th>\n",
       "      <th>HIP</th>\n",
       "      <td>12</td>\n",
       "      <td>True</td>\n",
       "    </tr>\n",
       "    <tr>\n",
       "      <th>H1</th>\n",
       "      <td>12</td>\n",
       "      <td>True</td>\n",
       "    </tr>\n",
       "    <tr>\n",
       "      <th>Greedy Best First Graph Se</th>\n",
       "      <th>GBFGS</th>\n",
       "      <th>H1</th>\n",
       "      <td>22</td>\n",
       "      <td>False</td>\n",
       "    </tr>\n",
       "  </tbody>\n",
       "</table>\n",
       "</div>"
      ],
      "text/plain": [
       "                                            length  optimal\n",
       "algorithm                  algo  heuristic                 \n",
       "Astar Se                   AS    HIP            12     True\n",
       "                                 H1             12     True\n",
       "Greedy Best First Graph Se GBFGS H1             22    False"
      ]
     },
     "execution_count": 92,
     "metadata": {},
     "output_type": "execute_result"
    }
   ],
   "source": [
    "informed=dict()\n",
    "informed['performance'],informed['solution']=utils.load_results('informed',3)\n",
    "df=informed['performance'].sort_values(by=['length','expansions']).drop_duplicates()\n",
    "df.set_index(['algorithm','algo','heuristic'])[['length','optimal']]"
   ]
  },
  {
   "cell_type": "code",
   "execution_count": 93,
   "metadata": {},
   "outputs": [
    {
     "data": {
      "text/html": [
       "<div>\n",
       "<style scoped>\n",
       "    .dataframe tbody tr th:only-of-type {\n",
       "        vertical-align: middle;\n",
       "    }\n",
       "\n",
       "    .dataframe tbody tr th {\n",
       "        vertical-align: top;\n",
       "    }\n",
       "\n",
       "    .dataframe thead th {\n",
       "        text-align: right;\n",
       "    }\n",
       "</style>\n",
       "<table border=\"1\" class=\"dataframe\">\n",
       "  <thead>\n",
       "    <tr style=\"text-align: right;\">\n",
       "      <th></th>\n",
       "      <th></th>\n",
       "      <th>created</th>\n",
       "      <th>expansions</th>\n",
       "      <th>length</th>\n",
       "      <th>tests</th>\n",
       "      <th>time[s]</th>\n",
       "      <th>optimal</th>\n",
       "      <th>b</th>\n",
       "    </tr>\n",
       "    <tr>\n",
       "      <th>algo</th>\n",
       "      <th>heuristic</th>\n",
       "      <th></th>\n",
       "      <th></th>\n",
       "      <th></th>\n",
       "      <th></th>\n",
       "      <th></th>\n",
       "      <th></th>\n",
       "      <th></th>\n",
       "    </tr>\n",
       "  </thead>\n",
       "  <tbody>\n",
       "    <tr>\n",
       "      <th rowspan=\"2\" valign=\"top\">AS</th>\n",
       "      <th>HIP</th>\n",
       "      <td>44944</td>\n",
       "      <td>5040</td>\n",
       "      <td>12</td>\n",
       "      <td>5042</td>\n",
       "      <td>960.9</td>\n",
       "      <td>True</td>\n",
       "      <td>2.4</td>\n",
       "    </tr>\n",
       "    <tr>\n",
       "      <th>H1</th>\n",
       "      <td>159716</td>\n",
       "      <td>18235</td>\n",
       "      <td>12</td>\n",
       "      <td>18237</td>\n",
       "      <td>3094.8</td>\n",
       "      <td>True</td>\n",
       "      <td>2.7</td>\n",
       "    </tr>\n",
       "    <tr>\n",
       "      <th>GBFGS</th>\n",
       "      <th>H1</th>\n",
       "      <td>49429</td>\n",
       "      <td>5614</td>\n",
       "      <td>22</td>\n",
       "      <td>5616</td>\n",
       "      <td>47.5</td>\n",
       "      <td>False</td>\n",
       "      <td>1.6</td>\n",
       "    </tr>\n",
       "  </tbody>\n",
       "</table>\n",
       "</div>"
      ],
      "text/plain": [
       "                 created  expansions  length  tests  time[s]  optimal   b\n",
       "algo  heuristic                                                          \n",
       "AS    HIP          44944        5040      12   5042    960.9     True 2.4\n",
       "      H1          159716       18235      12  18237   3094.8     True 2.7\n",
       "GBFGS H1           49429        5614      22   5616     47.5    False 1.6"
      ]
     },
     "execution_count": 93,
     "metadata": {},
     "output_type": "execute_result"
    }
   ],
   "source": [
    "df=informed['performance'].sort_values(by=['length','expansions']).drop(['problem'],axis=1).drop_duplicates()\n",
    "df=df.assign(b = lambda x: x.created**(1/x.length))\n",
    "df.set_index(['algo','heuristic']).drop('algorithm',axis=1)"
   ]
  },
  {
   "cell_type": "code",
   "execution_count": null,
   "metadata": {},
   "outputs": [],
   "source": []
  },
  {
   "cell_type": "code",
   "execution_count": null,
   "metadata": {},
   "outputs": [],
   "source": []
  },
  {
   "cell_type": "code",
   "execution_count": null,
   "metadata": {},
   "outputs": [],
   "source": []
  },
  {
   "cell_type": "code",
   "execution_count": 23,
   "metadata": {},
   "outputs": [
    {
     "data": {
      "text/html": [
       "<div>\n",
       "<style scoped>\n",
       "    .dataframe tbody tr th:only-of-type {\n",
       "        vertical-align: middle;\n",
       "    }\n",
       "\n",
       "    .dataframe tbody tr th {\n",
       "        vertical-align: top;\n",
       "    }\n",
       "\n",
       "    .dataframe thead th {\n",
       "        text-align: right;\n",
       "    }\n",
       "</style>\n",
       "<table border=\"1\" class=\"dataframe\">\n",
       "  <thead>\n",
       "    <tr style=\"text-align: right;\">\n",
       "      <th></th>\n",
       "      <th>AS</th>\n",
       "      <th>GBFGS</th>\n",
       "      <th>RBFS</th>\n",
       "    </tr>\n",
       "  </thead>\n",
       "  <tbody>\n",
       "    <tr>\n",
       "      <th>0</th>\n",
       "      <td>Load(C1, P1, SFO)</td>\n",
       "      <td>Load(C1, P1, SFO)</td>\n",
       "      <td>Load(C2, P2, JFK)</td>\n",
       "    </tr>\n",
       "    <tr>\n",
       "      <th>1</th>\n",
       "      <td>Fly(P1, SFO, JFK)</td>\n",
       "      <td>Load(C2, P2, JFK)</td>\n",
       "      <td>Load(C1, P1, SFO)</td>\n",
       "    </tr>\n",
       "    <tr>\n",
       "      <th>2</th>\n",
       "      <td>Load(C2, P2, JFK)</td>\n",
       "      <td>Fly(P1, SFO, JFK)</td>\n",
       "      <td>Fly(P2, JFK, SFO)</td>\n",
       "    </tr>\n",
       "    <tr>\n",
       "      <th>3</th>\n",
       "      <td>Fly(P2, JFK, SFO)</td>\n",
       "      <td>Fly(P2, JFK, SFO)</td>\n",
       "      <td>Unload(C2, P2, SFO)</td>\n",
       "    </tr>\n",
       "    <tr>\n",
       "      <th>4</th>\n",
       "      <td>Unload(C1, P1, JFK)</td>\n",
       "      <td>Unload(C1, P1, JFK)</td>\n",
       "      <td>Fly(P1, SFO, JFK)</td>\n",
       "    </tr>\n",
       "    <tr>\n",
       "      <th>5</th>\n",
       "      <td>Unload(C2, P2, SFO)</td>\n",
       "      <td>Unload(C2, P2, SFO)</td>\n",
       "      <td>Unload(C1, P1, JFK)</td>\n",
       "    </tr>\n",
       "  </tbody>\n",
       "</table>\n",
       "</div>"
      ],
      "text/plain": [
       "                    AS                GBFGS                 RBFS\n",
       "0    Load(C1, P1, SFO)    Load(C1, P1, SFO)    Load(C2, P2, JFK)\n",
       "1    Fly(P1, SFO, JFK)    Load(C2, P2, JFK)    Load(C1, P1, SFO)\n",
       "2    Load(C2, P2, JFK)    Fly(P1, SFO, JFK)    Fly(P2, JFK, SFO)\n",
       "3    Fly(P2, JFK, SFO)    Fly(P2, JFK, SFO)  Unload(C2, P2, SFO)\n",
       "4  Unload(C1, P1, JFK)  Unload(C1, P1, JFK)    Fly(P1, SFO, JFK)\n",
       "5  Unload(C2, P2, SFO)  Unload(C2, P2, SFO)  Unload(C1, P1, JFK)"
      ]
     },
     "execution_count": 23,
     "metadata": {},
     "output_type": "execute_result"
    }
   ],
   "source": [
    "df=informed['solution']\n",
    "optimal=dict()\n",
    "for i,v in df[df.optimal].iterrows():\n",
    "    optimal[v.algo]=v.solution\n",
    "pd.DataFrame.from_dict(optimal).head(6)"
   ]
  },
  {
   "cell_type": "code",
   "execution_count": 3,
   "metadata": {
    "collapsed": true
   },
   "outputs": [
    {
     "name": "stdout",
     "output_type": "stream",
     "text": [
      "breadth_first_search\n"
     ]
    },
    {
     "ename": "NameError",
     "evalue": "name 'draw_path' is not defined",
     "output_type": "error",
     "traceback": [
      "\u001b[1;31m---------------------------------------------------------------------------\u001b[0m",
      "\u001b[1;31mNameError\u001b[0m                                 Traceback (most recent call last)",
      "\u001b[1;32m<ipython-input-3-a83fc9356166>\u001b[0m in \u001b[0;36m<module>\u001b[1;34m()\u001b[0m\n\u001b[0;32m      1\u001b[0m \u001b[0mrow\u001b[0m\u001b[1;33m=\u001b[0m\u001b[0mlist\u001b[0m\u001b[1;33m(\u001b[0m\u001b[0muninformed\u001b[0m\u001b[1;33m[\u001b[0m\u001b[1;34m'path'\u001b[0m\u001b[1;33m]\u001b[0m\u001b[1;33m.\u001b[0m\u001b[0miterrows\u001b[0m\u001b[1;33m(\u001b[0m\u001b[1;33m)\u001b[0m\u001b[1;33m)\u001b[0m\u001b[1;33m[\u001b[0m\u001b[1;36m0\u001b[0m\u001b[1;33m]\u001b[0m\u001b[1;33m\u001b[0m\u001b[0m\n\u001b[0;32m      2\u001b[0m \u001b[0mprint\u001b[0m\u001b[1;33m(\u001b[0m\u001b[0mrow\u001b[0m\u001b[1;33m[\u001b[0m\u001b[1;36m0\u001b[0m\u001b[1;33m]\u001b[0m\u001b[1;33m)\u001b[0m\u001b[1;33m\u001b[0m\u001b[0m\n\u001b[1;32m----> 3\u001b[1;33m \u001b[0mg\u001b[0m\u001b[1;33m=\u001b[0m\u001b[0mdraw_path\u001b[0m\u001b[1;33m(\u001b[0m\u001b[0mrow\u001b[0m\u001b[1;33m[\u001b[0m\u001b[1;36m1\u001b[0m\u001b[1;33m]\u001b[0m\u001b[1;33m.\u001b[0m\u001b[0mvalues\u001b[0m\u001b[1;33m[\u001b[0m\u001b[1;36m0\u001b[0m\u001b[1;33m]\u001b[0m\u001b[1;33m)\u001b[0m\u001b[1;33m\u001b[0m\u001b[0m\n\u001b[0m\u001b[0;32m      4\u001b[0m \u001b[0mg\u001b[0m\u001b[1;33m.\u001b[0m\u001b[0m_repr_svg\u001b[0m\u001b[1;33m(\u001b[0m\u001b[1;33m)\u001b[0m\u001b[1;33m\u001b[0m\u001b[0m\n",
      "\u001b[1;31mNameError\u001b[0m: name 'draw_path' is not defined"
     ]
    }
   ],
   "source": [
    "row=list(uninformed['path'].iterrows())[0]\n",
    "print(row[0])\n",
    "g=draw_path(row[1].values[0])\n",
    "g._repr_svg()"
   ]
  },
  {
   "cell_type": "code",
   "execution_count": null,
   "metadata": {},
   "outputs": [],
   "source": [
    "def draw_path(path,airports=['SFO','JFK']):\n",
    "    import pydot\n",
    "    g = pydot.Dot()    \n",
    "    g.set_type('digraph')\n",
    "    g.set_rankdir('LR')\n",
    "    g.set_node_defaults(fontname = \"helvetica\",fontsize=10)    \n",
    "    g.set_edge_defaults(fontname = \"helvetica\",fontsize=9)\n",
    "\n",
    "    for s in ['Eaten(Cake)', 'Have(Cake)']:\n",
    "        g.add_node(pydot.Node(name=s,label=s,shape='doublecircle'))    \n",
    "\n",
    "    ['darkorange','darkorchid','darksalmon','deepskyblue','deeppink']\n",
    "    i=1\n",
    "    for action in path[0:-1]:\n",
    "        \n",
    "        a,arg=action.split('(')\n",
    "        arg1,arg2,arg3=arg.split(',')\n",
    "        arg2=arg2.replace(' ','')\n",
    "        arg3=arg3[0:-1].replace(' ','')\n",
    "        if a=='Fly':\n",
    "            p,f,t=arg1,arg2,arg3\n",
    "            g.add_edge(pydot.Edge(f,t,label='{}: {} ({})'.format(i,a,p)))    \n",
    "        else: \n",
    "            c,p,f=arg1,arg2,arg3\n",
    "            if a=='Load':\n",
    "                g.add_edge(pydot.Edge(f,f,color=color[0],label='{}: {} ({}=>{})'.format(i,a,c,p)))    \n",
    "            else:\n",
    "                g.add_edge(pydot.Edge(f,f,dir='back',label='{}: {} ({}=>{})'.format(i,a,p,c)))    \n",
    "\n",
    "        i=i+1\n",
    "    print(g.to_string())"
   ]
  },
  {
   "cell_type": "code",
   "execution_count": 58,
   "metadata": {},
   "outputs": [],
   "source": [
    "import example_have_cake\n",
    "from aimacode.search import Node\n",
    "problem=example_have_cake.have_cake()\n",
    "#print(dot_tree(p))\n",
    "from my_air_cargo_problems import air_cargo_p2\n",
    "problem=air_cargo_p2()"
   ]
  },
  {
   "cell_type": "code",
   "execution_count": 51,
   "metadata": {},
   "outputs": [],
   "source": [
    "root = Node(problem.initial)    \n",
    "flatten = lambda l: [item for sublist in l for item in sublist]\n",
    "children=[root.child_node(problem, action) for action in problem.actions(root.state)]    \n",
    "grandchildren=flatten([[child.child_node(problem, action) for action in problem.actions(child.state)] for child in children])    \n",
    "greatgrandchildren=flatten([[child.child_node(problem, action) for action in problem.actions(child.state)] for child in grandchildren])    \n",
    "nodes=set(children+grandchildren+greatgrandchildren)\n"
   ]
  },
  {
   "cell_type": "code",
   "execution_count": 59,
   "metadata": {},
   "outputs": [
    {
     "name": "stdout",
     "output_type": "stream",
     "text": [
      "digraph G {\n",
      "node [fontname=helvetica, fontsize=10];\n",
      "edge [fontname=helvetica, fontsize=9];\n",
      "TTTTTTFFFFFFFFFFFFFFFFFFFFF [shape=doublecircle, label=TTTTTTFFFFFFFFFFFFFFFFFFFFF];\n",
      "TTTTFTFFFFFFFFFFFFFFFFFFTFF [label=TTTTFTFFFFFFFFFFFFFFFFFFTFF, penwidth=1];\n",
      "TTTTTFFFFFFFFFFFFFFFFFFFFFT [label=TTTTTFFFFFFFFFFFFFFFFFFFFFT, penwidth=1];\n",
      "TFTTTTFFFTFFFFFFFFFFFFFFFFF [label=TFTTTTFFFTFFFFFFFFFFFFFFFFF, penwidth=1];\n",
      "FTTTTTFFFFFFFTFFFFFFFFFFFFF [label=FTTTTTFFFFFFFTFFFFFFFFFFFFF, penwidth=1];\n",
      "TTTFTTFFFFFFFFFFFFFFFTFFFFF [label=TTTFTTFFFFFFFFFFFFFFFTFFFFF, penwidth=1];\n",
      "TTTFTTFFFFFFFFFFFFFFFFTFFFF [label=TTTFTTFFFFFFFFFFFFFFFFTFFFF, penwidth=1];\n",
      "TTTTTFFFFFFFFFFFFFFFFFFFFTF [label=TTTTTFFFFFFFFFFFFFFFFFFFFTF, penwidth=1];\n",
      "TTFTTTFFFFFFFFFFFFFFTFFFFFF [label=TTFTTTFFFFFFFFFFFFFFTFFFFFF, penwidth=1];\n",
      "TTTTFTFFFFFFFFFFFFFFFFFTFFF [label=TTTTFTFFFFFFFFFFFFFFFFFTFFF, penwidth=1];\n",
      "TTTTTTFFFFFFFFFFFFFFFFFFFFF -> TTTTFTFFFFFFFFFFFFFFFFFFTFF  [label=\"Fly ((P2, JFK, ATL))\"];\n",
      "TTTTTTFFFFFFFFFFFFFFFFFFFFF -> TTTTTFFFFFFFFFFFFFFFFFFFFFT  [label=\"Fly ((P3, ATL, JFK))\"];\n",
      "TTTTTTFFFFFFFFFFFFFFFFFFFFF -> TFTTTTFFFTFFFFFFFFFFFFFFFFF  [label=\"Load ((C2, P2, JFK))\"];\n",
      "TTTTTTFFFFFFFFFFFFFFFFFFFFF -> FTTTTTFFFFFFFTFFFFFFFFFFFFF  [label=\"Load ((C1, P1, SFO))\"];\n",
      "TTTTTTFFFFFFFFFFFFFFFFFFFFF -> TTTFTTFFFFFFFFFFFFFFFTFFFFF  [label=\"Fly ((P1, SFO, JFK))\"];\n",
      "TTTTTTFFFFFFFFFFFFFFFFFFFFF -> TTTFTTFFFFFFFFFFFFFFFFTFFFF  [label=\"Fly ((P1, SFO, ATL))\"];\n",
      "TTTTTTFFFFFFFFFFFFFFFFFFFFF -> TTTTTFFFFFFFFFFFFFFFFFFFFTF  [label=\"Fly ((P3, ATL, SFO))\"];\n",
      "TTTTTTFFFFFFFFFFFFFFFFFFFFF -> TTFTTTFFFFFFFFFFFFFFTFFFFFF  [label=\"Load ((C3, P3, ATL))\"];\n",
      "TTTTTTFFFFFFFFFFFFFFFFFFFFF -> TTTTFTFFFFFFFFFFFFFFFFFTFFF  [label=\"Fly ((P2, JFK, SFO))\"];\n",
      "}\n",
      "\n"
     ]
    }
   ],
   "source": [
    "print(dot_tree(problem))"
   ]
  },
  {
   "cell_type": "code",
   "execution_count": 56,
   "metadata": {},
   "outputs": [],
   "source": [
    "def dot_tree(problem):    \n",
    "   \n",
    "#pre : a Problem() as input    \n",
    "#post: Dot graph in string format. Paste this in http://www.webgraphviz.com/ \n",
    "#usage: print(dot_tree(problem))  \n",
    "    root = Node(problem.initial)    \n",
    "    flatten = lambda l: [item for sublist in l for item in sublist]\n",
    "    children=[root.child_node(problem, action) for action in problem.actions(root.state)]    \n",
    "    grandchildren=flatten([[child.child_node(problem, action) for action in problem.actions(child.state)] for child in children])    \n",
    "    greatgrandchildren=flatten([[child.child_node(problem, action) for action in problem.actions(child.state)] for child in grandchildren])    \n",
    "    nodes=set(children)#+grandchildren+greatgrandchildren)\n",
    "    import pydot    \n",
    "    \n",
    "#make a Dot graph of the nodes and connections    \n",
    "#initial state as double circle     \n",
    "#goal state is marked with thick lines    \n",
    "#current implementation only goes two levels down (greatgrandchildren)    \n",
    "            \n",
    "    g = pydot.Dot()    \n",
    "    g.set_type('digraph')    \n",
    "    g.set_node_defaults(fontname = \"helvetica\",fontsize=10)    \n",
    "    g.set_edge_defaults(fontname = \"helvetica\",fontsize=9)        \n",
    "    g.add_node(pydot.Node(name=root.state,label='{}'.format(root.state),shape='doublecircle'))    \n",
    "    for n in nodes:        \n",
    "        if problem.goal_test(n.state):            \n",
    "            penwidth=3        \n",
    "        else:            \n",
    "            penwidth=1                \n",
    "        g.add_node(pydot.Node(name=n.state,label='{}'.format(n.state),penwidth=penwidth))    \n",
    "    for n in nodes:\n",
    "        g.add_edge(pydot.Edge(n.parent.state,n.state,label='{} ({})'.format(n.action.name,n.action.args)))    \n",
    "    return g.to_string()"
   ]
  },
  {
   "cell_type": "code",
   "execution_count": 33,
   "metadata": {
    "collapsed": true
   },
   "outputs": [
    {
     "ename": "ExecutableNotFound",
     "evalue": "failed to execute ['dot', '-Tsvg'], make sure the Graphviz executables are on your systems' PATH",
     "output_type": "error",
     "traceback": [
      "\u001b[1;31m---------------------------------------------------------------------------\u001b[0m",
      "\u001b[1;31mFileNotFoundError\u001b[0m                         Traceback (most recent call last)",
      "\u001b[1;32m~\\Anaconda3\\envs\\aind\\lib\\site-packages\\graphviz\\backend.py\u001b[0m in \u001b[0;36mpipe\u001b[1;34m(engine, format, data, quiet)\u001b[0m\n\u001b[0;32m    153\u001b[0m             \u001b[0mstdout\u001b[0m\u001b[1;33m=\u001b[0m\u001b[0msubprocess\u001b[0m\u001b[1;33m.\u001b[0m\u001b[0mPIPE\u001b[0m\u001b[1;33m,\u001b[0m \u001b[0mstderr\u001b[0m\u001b[1;33m=\u001b[0m\u001b[0msubprocess\u001b[0m\u001b[1;33m.\u001b[0m\u001b[0mPIPE\u001b[0m\u001b[1;33m,\u001b[0m\u001b[1;33m\u001b[0m\u001b[0m\n\u001b[1;32m--> 154\u001b[1;33m             startupinfo=STARTUPINFO)\n\u001b[0m\u001b[0;32m    155\u001b[0m     \u001b[1;32mexcept\u001b[0m \u001b[0mOSError\u001b[0m \u001b[1;32mas\u001b[0m \u001b[0me\u001b[0m\u001b[1;33m:\u001b[0m\u001b[1;33m\u001b[0m\u001b[0m\n",
      "\u001b[1;32m~\\Anaconda3\\envs\\aind\\lib\\subprocess.py\u001b[0m in \u001b[0;36m__init__\u001b[1;34m(self, args, bufsize, executable, stdin, stdout, stderr, preexec_fn, close_fds, shell, cwd, env, universal_newlines, startupinfo, creationflags, restore_signals, start_new_session, pass_fds)\u001b[0m\n\u001b[0;32m    675\u001b[0m                                 \u001b[0merrread\u001b[0m\u001b[1;33m,\u001b[0m \u001b[0merrwrite\u001b[0m\u001b[1;33m,\u001b[0m\u001b[1;33m\u001b[0m\u001b[0m\n\u001b[1;32m--> 676\u001b[1;33m                                 restore_signals, start_new_session)\n\u001b[0m\u001b[0;32m    677\u001b[0m         \u001b[1;32mexcept\u001b[0m\u001b[1;33m:\u001b[0m\u001b[1;33m\u001b[0m\u001b[0m\n",
      "\u001b[1;32m~\\Anaconda3\\envs\\aind\\lib\\subprocess.py\u001b[0m in \u001b[0;36m_execute_child\u001b[1;34m(self, args, executable, preexec_fn, close_fds, pass_fds, cwd, env, startupinfo, creationflags, shell, p2cread, p2cwrite, c2pread, c2pwrite, errread, errwrite, unused_restore_signals, unused_start_new_session)\u001b[0m\n\u001b[0;32m    956\u001b[0m                                          \u001b[0mcwd\u001b[0m\u001b[1;33m,\u001b[0m\u001b[1;33m\u001b[0m\u001b[0m\n\u001b[1;32m--> 957\u001b[1;33m                                          startupinfo)\n\u001b[0m\u001b[0;32m    958\u001b[0m             \u001b[1;32mfinally\u001b[0m\u001b[1;33m:\u001b[0m\u001b[1;33m\u001b[0m\u001b[0m\n",
      "\u001b[1;31mFileNotFoundError\u001b[0m: [WinError 2] The system cannot find the file specified",
      "\nDuring handling of the above exception, another exception occurred:\n",
      "\u001b[1;31mExecutableNotFound\u001b[0m                        Traceback (most recent call last)",
      "\u001b[1;32m<ipython-input-33-76fe566a23b6>\u001b[0m in \u001b[0;36m<module>\u001b[1;34m()\u001b[0m\n\u001b[0;32m      6\u001b[0m \u001b[1;32mfrom\u001b[0m \u001b[0mgraphviz\u001b[0m \u001b[1;32mimport\u001b[0m \u001b[0mDigraph\u001b[0m\u001b[1;33m\u001b[0m\u001b[0m\n\u001b[0;32m      7\u001b[0m \u001b[0mdot\u001b[0m\u001b[1;33m=\u001b[0m\u001b[0mDigraph\u001b[0m\u001b[1;33m(\u001b[0m\u001b[0mcomment\u001b[0m\u001b[1;33m=\u001b[0m\u001b[1;34m'test'\u001b[0m\u001b[1;33m)\u001b[0m\u001b[1;33m\u001b[0m\u001b[0m\n\u001b[1;32m----> 8\u001b[1;33m \u001b[0mdot\u001b[0m\u001b[1;33m.\u001b[0m\u001b[0m_repr_svg_\u001b[0m\u001b[1;33m(\u001b[0m\u001b[1;33m)\u001b[0m\u001b[1;33m\u001b[0m\u001b[0m\n\u001b[0m",
      "\u001b[1;32m~\\Anaconda3\\envs\\aind\\lib\\site-packages\\graphviz\\files.py\u001b[0m in \u001b[0;36m_repr_svg_\u001b[1;34m(self)\u001b[0m\n\u001b[0;32m    104\u001b[0m \u001b[1;33m\u001b[0m\u001b[0m\n\u001b[0;32m    105\u001b[0m     \u001b[1;32mdef\u001b[0m \u001b[0m_repr_svg_\u001b[0m\u001b[1;33m(\u001b[0m\u001b[0mself\u001b[0m\u001b[1;33m)\u001b[0m\u001b[1;33m:\u001b[0m\u001b[1;33m\u001b[0m\u001b[0m\n\u001b[1;32m--> 106\u001b[1;33m         \u001b[1;32mreturn\u001b[0m \u001b[0mself\u001b[0m\u001b[1;33m.\u001b[0m\u001b[0mpipe\u001b[0m\u001b[1;33m(\u001b[0m\u001b[0mformat\u001b[0m\u001b[1;33m=\u001b[0m\u001b[1;34m'svg'\u001b[0m\u001b[1;33m)\u001b[0m\u001b[1;33m.\u001b[0m\u001b[0mdecode\u001b[0m\u001b[1;33m(\u001b[0m\u001b[0mself\u001b[0m\u001b[1;33m.\u001b[0m\u001b[0m_encoding\u001b[0m\u001b[1;33m)\u001b[0m\u001b[1;33m\u001b[0m\u001b[0m\n\u001b[0m\u001b[0;32m    107\u001b[0m \u001b[1;33m\u001b[0m\u001b[0m\n\u001b[0;32m    108\u001b[0m     \u001b[1;32mdef\u001b[0m \u001b[0mpipe\u001b[0m\u001b[1;33m(\u001b[0m\u001b[0mself\u001b[0m\u001b[1;33m,\u001b[0m \u001b[0mformat\u001b[0m\u001b[1;33m=\u001b[0m\u001b[1;32mNone\u001b[0m\u001b[1;33m)\u001b[0m\u001b[1;33m:\u001b[0m\u001b[1;33m\u001b[0m\u001b[0m\n",
      "\u001b[1;32m~\\Anaconda3\\envs\\aind\\lib\\site-packages\\graphviz\\files.py\u001b[0m in \u001b[0;36mpipe\u001b[1;34m(self, format)\u001b[0m\n\u001b[0;32m    123\u001b[0m         \u001b[0mdata\u001b[0m \u001b[1;33m=\u001b[0m \u001b[0mtext_type\u001b[0m\u001b[1;33m(\u001b[0m\u001b[0mself\u001b[0m\u001b[1;33m.\u001b[0m\u001b[0msource\u001b[0m\u001b[1;33m)\u001b[0m\u001b[1;33m.\u001b[0m\u001b[0mencode\u001b[0m\u001b[1;33m(\u001b[0m\u001b[0mself\u001b[0m\u001b[1;33m.\u001b[0m\u001b[0m_encoding\u001b[0m\u001b[1;33m)\u001b[0m\u001b[1;33m\u001b[0m\u001b[0m\n\u001b[0;32m    124\u001b[0m \u001b[1;33m\u001b[0m\u001b[0m\n\u001b[1;32m--> 125\u001b[1;33m         \u001b[0mouts\u001b[0m \u001b[1;33m=\u001b[0m \u001b[0mbackend\u001b[0m\u001b[1;33m.\u001b[0m\u001b[0mpipe\u001b[0m\u001b[1;33m(\u001b[0m\u001b[0mself\u001b[0m\u001b[1;33m.\u001b[0m\u001b[0m_engine\u001b[0m\u001b[1;33m,\u001b[0m \u001b[0mformat\u001b[0m\u001b[1;33m,\u001b[0m \u001b[0mdata\u001b[0m\u001b[1;33m)\u001b[0m\u001b[1;33m\u001b[0m\u001b[0m\n\u001b[0m\u001b[0;32m    126\u001b[0m \u001b[1;33m\u001b[0m\u001b[0m\n\u001b[0;32m    127\u001b[0m         \u001b[1;32mreturn\u001b[0m \u001b[0mouts\u001b[0m\u001b[1;33m\u001b[0m\u001b[0m\n",
      "\u001b[1;32m~\\Anaconda3\\envs\\aind\\lib\\site-packages\\graphviz\\backend.py\u001b[0m in \u001b[0;36mpipe\u001b[1;34m(engine, format, data, quiet)\u001b[0m\n\u001b[0;32m    155\u001b[0m     \u001b[1;32mexcept\u001b[0m \u001b[0mOSError\u001b[0m \u001b[1;32mas\u001b[0m \u001b[0me\u001b[0m\u001b[1;33m:\u001b[0m\u001b[1;33m\u001b[0m\u001b[0m\n\u001b[0;32m    156\u001b[0m         \u001b[1;32mif\u001b[0m \u001b[0me\u001b[0m\u001b[1;33m.\u001b[0m\u001b[0merrno\u001b[0m \u001b[1;33m==\u001b[0m \u001b[0merrno\u001b[0m\u001b[1;33m.\u001b[0m\u001b[0mENOENT\u001b[0m\u001b[1;33m:\u001b[0m\u001b[1;33m\u001b[0m\u001b[0m\n\u001b[1;32m--> 157\u001b[1;33m             \u001b[1;32mraise\u001b[0m \u001b[0mExecutableNotFound\u001b[0m\u001b[1;33m(\u001b[0m\u001b[0margs\u001b[0m\u001b[1;33m)\u001b[0m\u001b[1;33m\u001b[0m\u001b[0m\n\u001b[0m\u001b[0;32m    158\u001b[0m         \u001b[1;32melse\u001b[0m\u001b[1;33m:\u001b[0m  \u001b[1;31m# pragma: no cover\u001b[0m\u001b[1;33m\u001b[0m\u001b[0m\n\u001b[0;32m    159\u001b[0m             \u001b[1;32mraise\u001b[0m\u001b[1;33m\u001b[0m\u001b[0m\n",
      "\u001b[1;31mExecutableNotFound\u001b[0m: failed to execute ['dot', '-Tsvg'], make sure the Graphviz executables are on your systems' PATH"
     ]
    }
   ],
   "source": [
    "import sys\n",
    "sys.path.append('C:\\Program Files (x86)\\Graphviz2.38\\bin')\n",
    "sys.path.append('C:\\Program Files (x86)\\Graphviz2.38')\n",
    "C:\\Users\\Administrator\\Anaconda3\\pkgs\\graphviz-2.38.0-4\\Library\\bin\\graphviz\n",
    "\n",
    "from graphviz import Digraph\n",
    "dot=Digraph(comment='test')\n",
    "dot._repr_svg_()"
   ]
  },
  {
   "cell_type": "code",
   "execution_count": 21,
   "metadata": {
    "collapsed": true
   },
   "outputs": [
    {
     "name": "stdout",
     "output_type": "stream",
     "text": [
      "breadth_first_search\n",
      "digraph G {\n",
      "rankdir=LR;\n",
      "node [fontname=helvetica, fontsize=10];\n",
      "edge [fontname=helvetica, fontsize=9];\n",
      "SFO [shape=doublecircle, label=SFO];\n",
      "JFK [shape=doublecircle, label=JFK];\n",
      "SFO -> SFO  [arrowhead=diamond, label=\"1: Load (C1=>P1)\"];\n",
      "JFK -> JFK  [arrowhead=diamond, label=\"2: Load (C2=>P2)\"];\n",
      "JFK -> SFO  [label=\"3: Fly (P2)\"];\n",
      "SFO -> SFO  [arrowtail=odiamond, dir=back, label=\"4: Unload (P2=>C2)\"];\n",
      "SFO -> JFK  [label=\"5: Fly (P1)\"];\n",
      "JFK -> JFK  [arrowtail=odiamond, dir=back, label=\"6: Unload (P1=>C1)\"];\n",
      "}\n",
      "\n",
      "breadth_first_tree_search\n",
      "digraph G {\n",
      "rankdir=LR;\n",
      "node [fontname=helvetica, fontsize=10];\n",
      "edge [fontname=helvetica, fontsize=9];\n",
      "SFO [shape=doublecircle, label=SFO];\n",
      "JFK [shape=doublecircle, label=JFK];\n",
      "SFO -> SFO  [arrowhead=diamond, label=\"1: Load (C1=>P1)\"];\n",
      "JFK -> JFK  [arrowhead=diamond, label=\"2: Load (C2=>P2)\"];\n",
      "JFK -> SFO  [label=\"3: Fly (P2)\"];\n",
      "SFO -> SFO  [arrowtail=odiamond, dir=back, label=\"4: Unload (P2=>C2)\"];\n",
      "SFO -> JFK  [label=\"5: Fly (P1)\"];\n",
      "JFK -> JFK  [arrowtail=odiamond, dir=back, label=\"6: Unload (P1=>C1)\"];\n",
      "}\n",
      "\n",
      "depth_first_graph_search\n",
      "digraph G {\n",
      "rankdir=LR;\n",
      "node [fontname=helvetica, fontsize=10];\n",
      "edge [fontname=helvetica, fontsize=9];\n",
      "SFO [shape=doublecircle, label=SFO];\n",
      "JFK [shape=doublecircle, label=JFK];\n",
      "SFO -> JFK  [label=\"1: Fly (P1)\"];\n",
      "JFK -> SFO  [label=\"2: Fly (P2)\"];\n",
      "JFK -> JFK  [arrowhead=diamond, label=\"3: Load (C2=>P1)\"];\n",
      "JFK -> SFO  [label=\"4: Fly (P1)\"];\n",
      "SFO -> JFK  [label=\"5: Fly (P2)\"];\n",
      "SFO -> SFO  [arrowtail=odiamond, dir=back, label=\"6: Unload (P1=>C2)\"];\n",
      "SFO -> JFK  [label=\"7: Fly (P1)\"];\n",
      "JFK -> SFO  [label=\"8: Fly (P2)\"];\n",
      "SFO -> SFO  [arrowhead=diamond, label=\"9: Load (C2=>P2)\"];\n",
      "JFK -> SFO  [label=\"10: Fly (P1)\"];\n",
      "SFO -> SFO  [arrowhead=diamond, label=\"11: Load (C1=>P2)\"];\n",
      "SFO -> JFK  [label=\"12: Fly (P2)\"];\n",
      "SFO -> JFK  [label=\"13: Fly (P1)\"];\n",
      "JFK -> JFK  [arrowtail=odiamond, dir=back, label=\"14: Unload (P2=>C2)\"];\n",
      "JFK -> JFK  [arrowtail=odiamond, dir=back, label=\"15: Unload (P2=>C1)\"];\n",
      "JFK -> SFO  [label=\"16: Fly (P2)\"];\n",
      "JFK -> JFK  [arrowhead=diamond, label=\"17: Load (C2=>P1)\"];\n",
      "JFK -> SFO  [label=\"18: Fly (P1)\"];\n",
      "SFO -> JFK  [label=\"19: Fly (P2)\"];\n",
      "SFO -> SFO  [arrowtail=odiamond, dir=back, label=\"20: Unload (P1=>C2)\"];\n",
      "}\n",
      "\n",
      "depth_limited_search\n",
      "digraph G {\n",
      "rankdir=LR;\n",
      "node [fontname=helvetica, fontsize=10];\n",
      "edge [fontname=helvetica, fontsize=9];\n",
      "SFO [shape=doublecircle, label=SFO];\n",
      "JFK [shape=doublecircle, label=JFK];\n",
      "SFO -> SFO  [arrowhead=diamond, label=\"1: Load (C1=>P1)\"];\n",
      "JFK -> JFK  [arrowhead=diamond, label=\"2: Load (C2=>P2)\"];\n",
      "SFO -> SFO  [arrowtail=odiamond, dir=back, label=\"3: Unload (P1=>C1)\"];\n",
      "SFO -> SFO  [arrowhead=diamond, label=\"4: Load (C1=>P1)\"];\n",
      "SFO -> SFO  [arrowtail=odiamond, dir=back, label=\"5: Unload (P1=>C1)\"];\n",
      "SFO -> SFO  [arrowhead=diamond, label=\"6: Load (C1=>P1)\"];\n",
      "SFO -> SFO  [arrowtail=odiamond, dir=back, label=\"7: Unload (P1=>C1)\"];\n",
      "SFO -> SFO  [arrowhead=diamond, label=\"8: Load (C1=>P1)\"];\n",
      "SFO -> SFO  [arrowtail=odiamond, dir=back, label=\"9: Unload (P1=>C1)\"];\n",
      "SFO -> SFO  [arrowhead=diamond, label=\"10: Load (C1=>P1)\"];\n",
      "SFO -> SFO  [arrowtail=odiamond, dir=back, label=\"11: Unload (P1=>C1)\"];\n",
      "SFO -> SFO  [arrowhead=diamond, label=\"12: Load (C1=>P1)\"];\n",
      "SFO -> SFO  [arrowtail=odiamond, dir=back, label=\"13: Unload (P1=>C1)\"];\n",
      "SFO -> SFO  [arrowhead=diamond, label=\"14: Load (C1=>P1)\"];\n",
      "SFO -> SFO  [arrowtail=odiamond, dir=back, label=\"15: Unload (P1=>C1)\"];\n",
      "SFO -> SFO  [arrowhead=diamond, label=\"16: Load (C1=>P1)\"];\n",
      "SFO -> SFO  [arrowtail=odiamond, dir=back, label=\"17: Unload (P1=>C1)\"];\n",
      "SFO -> SFO  [arrowhead=diamond, label=\"18: Load (C1=>P1)\"];\n",
      "SFO -> SFO  [arrowtail=odiamond, dir=back, label=\"19: Unload (P1=>C1)\"];\n",
      "SFO -> SFO  [arrowhead=diamond, label=\"20: Load (C1=>P1)\"];\n",
      "SFO -> SFO  [arrowtail=odiamond, dir=back, label=\"21: Unload (P1=>C1)\"];\n",
      "SFO -> SFO  [arrowhead=diamond, label=\"22: Load (C1=>P1)\"];\n",
      "SFO -> SFO  [arrowtail=odiamond, dir=back, label=\"23: Unload (P1=>C1)\"];\n",
      "SFO -> SFO  [arrowhead=diamond, label=\"24: Load (C1=>P1)\"];\n",
      "SFO -> SFO  [arrowtail=odiamond, dir=back, label=\"25: Unload (P1=>C1)\"];\n",
      "SFO -> SFO  [arrowhead=diamond, label=\"26: Load (C1=>P1)\"];\n",
      "SFO -> SFO  [arrowtail=odiamond, dir=back, label=\"27: Unload (P1=>C1)\"];\n",
      "SFO -> SFO  [arrowhead=diamond, label=\"28: Load (C1=>P1)\"];\n",
      "SFO -> SFO  [arrowtail=odiamond, dir=back, label=\"29: Unload (P1=>C1)\"];\n",
      "SFO -> SFO  [arrowhead=diamond, label=\"30: Load (C1=>P1)\"];\n",
      "SFO -> SFO  [arrowtail=odiamond, dir=back, label=\"31: Unload (P1=>C1)\"];\n",
      "SFO -> SFO  [arrowhead=diamond, label=\"32: Load (C1=>P1)\"];\n",
      "SFO -> SFO  [arrowtail=odiamond, dir=back, label=\"33: Unload (P1=>C1)\"];\n",
      "SFO -> SFO  [arrowhead=diamond, label=\"34: Load (C1=>P1)\"];\n",
      "SFO -> SFO  [arrowtail=odiamond, dir=back, label=\"35: Unload (P1=>C1)\"];\n",
      "SFO -> SFO  [arrowhead=diamond, label=\"36: Load (C1=>P1)\"];\n",
      "SFO -> SFO  [arrowtail=odiamond, dir=back, label=\"37: Unload (P1=>C1)\"];\n",
      "SFO -> SFO  [arrowhead=diamond, label=\"38: Load (C1=>P1)\"];\n",
      "SFO -> SFO  [arrowtail=odiamond, dir=back, label=\"39: Unload (P1=>C1)\"];\n",
      "SFO -> SFO  [arrowhead=diamond, label=\"40: Load (C1=>P1)\"];\n",
      "SFO -> SFO  [arrowtail=odiamond, dir=back, label=\"41: Unload (P1=>C1)\"];\n",
      "SFO -> SFO  [arrowhead=diamond, label=\"42: Load (C1=>P1)\"];\n",
      "SFO -> SFO  [arrowtail=odiamond, dir=back, label=\"43: Unload (P1=>C1)\"];\n",
      "SFO -> SFO  [arrowhead=diamond, label=\"44: Load (C1=>P1)\"];\n",
      "SFO -> SFO  [arrowtail=odiamond, dir=back, label=\"45: Unload (P1=>C1)\"];\n",
      "SFO -> SFO  [arrowhead=diamond, label=\"46: Load (C1=>P1)\"];\n",
      "JFK -> SFO  [label=\"47: Fly (P2)\"];\n",
      "SFO -> SFO  [arrowtail=odiamond, dir=back, label=\"48: Unload (P2=>C2)\"];\n",
      "SFO -> JFK  [label=\"49: Fly (P1)\"];\n",
      "JFK -> JFK  [arrowtail=odiamond, dir=back, label=\"50: Unload (P1=>C1)\"];\n",
      "}\n",
      "\n",
      "uniform_cost_search\n",
      "digraph G {\n",
      "rankdir=LR;\n",
      "node [fontname=helvetica, fontsize=10];\n",
      "edge [fontname=helvetica, fontsize=9];\n",
      "SFO [shape=doublecircle, label=SFO];\n",
      "JFK [shape=doublecircle, label=JFK];\n",
      "SFO -> SFO  [arrowhead=diamond, label=\"1: Load (C1=>P1)\"];\n",
      "JFK -> JFK  [arrowhead=diamond, label=\"2: Load (C2=>P2)\"];\n",
      "SFO -> JFK  [label=\"3: Fly (P1)\"];\n",
      "JFK -> SFO  [label=\"4: Fly (P2)\"];\n",
      "JFK -> JFK  [arrowtail=odiamond, dir=back, label=\"5: Unload (P1=>C1)\"];\n",
      "SFO -> SFO  [arrowtail=odiamond, dir=back, label=\"6: Unload (P2=>C2)\"];\n",
      "}\n",
      "\n"
     ]
    }
   ],
   "source": [
    "for row in uninformed['path'].iterrows():\n",
    "    print(row[0])\n",
    "    draw_path(row[1].values[0])"
   ]
  },
  {
   "cell_type": "code",
   "execution_count": 19,
   "metadata": {},
   "outputs": [],
   "source": [
    "def draw_path(path,airports=['SFO','JFK']):\n",
    "    import pydot\n",
    "    g = pydot.Dot()    \n",
    "    g.set_type('digraph')\n",
    "    g.set_rankdir('LR')\n",
    "    g.set_node_defaults(fontname = \"helvetica\",fontsize=10)    \n",
    "    g.set_edge_defaults(fontname = \"helvetica\",fontsize=9)\n",
    "\n",
    "    for airport in airports:\n",
    "        g.add_node(pydot.Node(name=airport,label=airport,shape='doublecircle'))    \n",
    "\n",
    "    i=1\n",
    "    for action in path[0:-1]:\n",
    "        a,arg=action.split('(')\n",
    "        arg1,arg2,arg3=arg.split(',')\n",
    "        arg2=arg2.replace(' ','')\n",
    "        arg3=arg3[0:-1].replace(' ','')\n",
    "        if a=='Fly':\n",
    "            p,f,t=arg1,arg2,arg3\n",
    "            g.add_edge(pydot.Edge(f,t,label='{}: {} ({})'.format(i,a,p)))    \n",
    "        else: \n",
    "            c,p,f=arg1,arg2,arg3\n",
    "            if a=='Load':\n",
    "                g.add_edge(pydot.Edge(f,f,arrowhead='diamond',label='{}: {} ({}=>{})'.format(i,a,c,p)))    \n",
    "            else:\n",
    "                g.add_edge(pydot.Edge(f,f,arrowtail='odiamond',dir='back',label='{}: {} ({}=>{})'.format(i,a,p,c)))    \n",
    "\n",
    "        i=i+1\n",
    "    print(g.to_string())\n",
    "    "
   ]
  },
  {
   "cell_type": "code",
   "execution_count": null,
   "metadata": {},
   "outputs": [],
   "source": [
    "def dot_tree(problem):    \n",
    "   \n",
    "#pre : a Problem() as input    \n",
    "#post: Dot graph in string format. Paste this in http://www.webgraphviz.com/ \n",
    "#usage: print(dot_tree(problem))  \n",
    "    root = Node(problem.initial)    \n",
    "    flatten = lambda l: [item for sublist in l for item in sublist]\n",
    "    children=[root.child_node(problem, action) for action in problem.actions(root.state)]    \n",
    "    grandchildren=flatten([[child.child_node(problem, action) for action in problem.actions(child.state)] for child in children])    \n",
    "    greatgrandchildren=flatten([[child.child_node(problem, action) for action in problem.actions(child.state)] for child in grandchildren])    \n",
    "    nodes=set(children+grandchildren+greatgrandchildren)\n",
    "    import pydot    \n",
    "    \n",
    "#make a Dot graph of the nodes and connections    \n",
    "#initial state as double circle     \n",
    "#goal state is marked with thick lines    \n",
    "#current implementation only goes two levels down (greatgrandchildren)    \n",
    "            \n",
    "    g = pydot.Dot()    \n",
    "    g.set_type('digraph')    \n",
    "    g.set_node_defaults(fontname = \"helvetica\",fontsize=10)    \n",
    "    g.set_edge_defaults(fontname = \"helvetica\",fontsize=9)        \n",
    "    g.add_node(pydot.Node(name=root.state,label='{}'.format(root.state),shape='doublecircle'))    \n",
    "    for n in nodes:        \n",
    "        if problem.goal_test(n.state):            \n",
    "            penwidth=3        \n",
    "        else:            \n",
    "            penwidth=1                \n",
    "        g.add_node(pydot.Node(name=n.state,label='{}'.format(n.state),penwidth=penwidth))    \n",
    "    for n in nodes:\n",
    "        g.add_edge(pydot.Edge(n.parent.state,n.state,label='{} ({})'.format(n.action.name,n.action.args)))    \n",
    "   return g.to_string()"
   ]
  },
  {
   "cell_type": "markdown",
   "metadata": {},
   "source": [
    "##### Informed Search Algorithms"
   ]
  },
  {
   "cell_type": "code",
   "execution_count": 132,
   "metadata": {},
   "outputs": [
    {
     "data": {
      "text/html": [
       "<div>\n",
       "<style scoped>\n",
       "    .dataframe tbody tr th:only-of-type {\n",
       "        vertical-align: middle;\n",
       "    }\n",
       "\n",
       "    .dataframe tbody tr th {\n",
       "        vertical-align: top;\n",
       "    }\n",
       "\n",
       "    .dataframe thead th {\n",
       "        text-align: right;\n",
       "    }\n",
       "</style>\n",
       "<table border=\"1\" class=\"dataframe\">\n",
       "  <thead>\n",
       "    <tr style=\"text-align: right;\">\n",
       "      <th></th>\n",
       "      <th></th>\n",
       "      <th>expansions</th>\n",
       "      <th>tests</th>\n",
       "      <th>created</th>\n",
       "      <th>length</th>\n",
       "      <th>seconds</th>\n",
       "    </tr>\n",
       "    <tr>\n",
       "      <th>algorithm</th>\n",
       "      <th>heuristic</th>\n",
       "      <th></th>\n",
       "      <th></th>\n",
       "      <th></th>\n",
       "      <th></th>\n",
       "      <th></th>\n",
       "    </tr>\n",
       "  </thead>\n",
       "  <tbody>\n",
       "    <tr>\n",
       "      <th>recursive_best_first_se</th>\n",
       "      <th>h_1</th>\n",
       "      <td>4229</td>\n",
       "      <td>4230</td>\n",
       "      <td>17023</td>\n",
       "      <td>6</td>\n",
       "      <td>4.860465</td>\n",
       "    </tr>\n",
       "    <tr>\n",
       "      <th>greedy_best_first_graph_se</th>\n",
       "      <th>h_1</th>\n",
       "      <td>7</td>\n",
       "      <td>9</td>\n",
       "      <td>28</td>\n",
       "      <td>6</td>\n",
       "      <td>0.009442</td>\n",
       "    </tr>\n",
       "    <tr>\n",
       "      <th rowspan=\"3\" valign=\"top\">astar_se</th>\n",
       "      <th>h_1</th>\n",
       "      <td>55</td>\n",
       "      <td>57</td>\n",
       "      <td>224</td>\n",
       "      <td>6</td>\n",
       "      <td>0.064447</td>\n",
       "    </tr>\n",
       "    <tr>\n",
       "      <th>h_ignore_preconditions</th>\n",
       "      <td>41</td>\n",
       "      <td>43</td>\n",
       "      <td>170</td>\n",
       "      <td>6</td>\n",
       "      <td>0.060539</td>\n",
       "    </tr>\n",
       "    <tr>\n",
       "      <th>h_pg_levelsum</th>\n",
       "      <td>11</td>\n",
       "      <td>13</td>\n",
       "      <td>50</td>\n",
       "      <td>6</td>\n",
       "      <td>1.497370</td>\n",
       "    </tr>\n",
       "  </tbody>\n",
       "</table>\n",
       "</div>"
      ],
      "text/plain": [
       "                                                   expansions  tests  created  \\\n",
       "algorithm                  heuristic                                            \n",
       "recursive_best_first_se    h_1                           4229   4230    17023   \n",
       "greedy_best_first_graph_se h_1                              7      9       28   \n",
       "astar_se                   h_1                             55     57      224   \n",
       "                           h_ignore_preconditions          41     43      170   \n",
       "                           h_pg_levelsum                   11     13       50   \n",
       "\n",
       "                                                   length   seconds  \n",
       "algorithm                  heuristic                                 \n",
       "recursive_best_first_se    h_1                          6  4.860465  \n",
       "greedy_best_first_graph_se h_1                          6  0.009442  \n",
       "astar_se                   h_1                          6  0.064447  \n",
       "                           h_ignore_preconditions       6  0.060539  \n",
       "                           h_pg_levelsum                6  1.497370  "
      ]
     },
     "execution_count": 132,
     "metadata": {},
     "output_type": "execute_result"
    }
   ],
   "source": [
    "informed=dict()\n",
    "informed['performance'],informed['path']=load_results('informed',1)\n",
    "informed['performance']"
   ]
  },
  {
   "cell_type": "markdown",
   "metadata": {},
   "source": [
    "### Problem 2"
   ]
  },
  {
   "cell_type": "code",
   "execution_count": null,
   "metadata": {},
   "outputs": [],
   "source": []
  }
 ],
 "metadata": {
  "kernelspec": {
   "display_name": "Python 3",
   "language": "python",
   "name": "python3"
  },
  "language_info": {
   "codemirror_mode": {
    "name": "ipython",
    "version": 3
   },
   "file_extension": ".py",
   "mimetype": "text/x-python",
   "name": "python",
   "nbconvert_exporter": "python",
   "pygments_lexer": "ipython3",
   "version": "3.5.4"
  }
 },
 "nbformat": 4,
 "nbformat_minor": 2
}
